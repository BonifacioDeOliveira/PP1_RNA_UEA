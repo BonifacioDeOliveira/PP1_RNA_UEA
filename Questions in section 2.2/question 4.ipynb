{
 "cells": [
  {
   "cell_type": "code",
   "execution_count": 10,
   "metadata": {},
   "outputs": [],
   "source": [
    "import numpy as np\n",
    "import pandas as pd\n",
    "\n",
    "import matplotlib.pyplot as plt\n",
    "import datetime"
   ]
  },
  {
   "cell_type": "code",
   "execution_count": 19,
   "metadata": {},
   "outputs": [
    {
     "name": "stderr",
     "output_type": "stream",
     "text": [
      "C:\\Users\\luizf\\anaconda3\\lib\\site-packages\\IPython\\core\\interactiveshell.py:3071: DtypeWarning: Columns (15,21,23,29,30,31,32,34) have mixed types.Specify dtype option on import or set low_memory=False.\n",
      "  has_raised = await self.run_ast_nodes(code_ast.body, cell_name,\n"
     ]
    }
   ],
   "source": [
    "#import Manaus.csv\n",
    "df = pd.read_csv('Old_Manaus.csv', sep=';', encoding='latin-1')\n",
    "\n",
    "#Limpeza\n",
    "cleaned_data = df[['_idade','_sexo','_bairro','_classificacao','_conclusao','_dt_notificacao','_teste_pcr','_teste_anticorpo','_teste_antigeno','_teste_igm','_teste_igg','_faixa etária']]\n",
    "cleaned_data = cleaned_data.dropna()\n",
    "cleaned_data = cleaned_data.reset_index(drop=True)\n",
    "df = cleaned_data\n",
    "\n",
    "#pega o tamanho do data para filtrar a data posteriormente\n",
    "size = df.size\n",
    "\n",
    "#filtra somente os casos onde a coclusão é igual a recuperado\n",
    "df_recovered = df.loc[df['_conclusao'] == 'Recuperado']"
   ]
  },
  {
   "cell_type": "code",
   "execution_count": 20,
   "metadata": {},
   "outputs": [
    {
     "data": {
      "text/html": [
       "<div>\n",
       "<style scoped>\n",
       "    .dataframe tbody tr th:only-of-type {\n",
       "        vertical-align: middle;\n",
       "    }\n",
       "\n",
       "    .dataframe tbody tr th {\n",
       "        vertical-align: top;\n",
       "    }\n",
       "\n",
       "    .dataframe thead th {\n",
       "        text-align: right;\n",
       "    }\n",
       "</style>\n",
       "<table border=\"1\" class=\"dataframe\">\n",
       "  <thead>\n",
       "    <tr style=\"text-align: right;\">\n",
       "      <th></th>\n",
       "      <th>_dt_notificacao</th>\n",
       "      <th>_conclusao</th>\n",
       "    </tr>\n",
       "  </thead>\n",
       "  <tbody>\n",
       "    <tr>\n",
       "      <th>0</th>\n",
       "      <td>25/04/2020</td>\n",
       "      <td>Recuperado</td>\n",
       "    </tr>\n",
       "    <tr>\n",
       "      <th>1</th>\n",
       "      <td>04/05/2020</td>\n",
       "      <td>Recuperado</td>\n",
       "    </tr>\n",
       "    <tr>\n",
       "      <th>2</th>\n",
       "      <td>18/04/2020</td>\n",
       "      <td>Recuperado</td>\n",
       "    </tr>\n",
       "    <tr>\n",
       "      <th>3</th>\n",
       "      <td>28/04/2020</td>\n",
       "      <td>Recuperado</td>\n",
       "    </tr>\n",
       "    <tr>\n",
       "      <th>4</th>\n",
       "      <td>23/04/2020</td>\n",
       "      <td>Recuperado</td>\n",
       "    </tr>\n",
       "    <tr>\n",
       "      <th>...</th>\n",
       "      <td>...</td>\n",
       "      <td>...</td>\n",
       "    </tr>\n",
       "    <tr>\n",
       "      <th>54653</th>\n",
       "      <td>25/05/2020</td>\n",
       "      <td>Recuperado</td>\n",
       "    </tr>\n",
       "    <tr>\n",
       "      <th>54654</th>\n",
       "      <td>04/05/2020</td>\n",
       "      <td>Recuperado</td>\n",
       "    </tr>\n",
       "    <tr>\n",
       "      <th>54655</th>\n",
       "      <td>05/06/2020</td>\n",
       "      <td>Recuperado</td>\n",
       "    </tr>\n",
       "    <tr>\n",
       "      <th>54656</th>\n",
       "      <td>03/04/2020</td>\n",
       "      <td>Recuperado</td>\n",
       "    </tr>\n",
       "    <tr>\n",
       "      <th>54657</th>\n",
       "      <td>30/04/2020</td>\n",
       "      <td>Recuperado</td>\n",
       "    </tr>\n",
       "  </tbody>\n",
       "</table>\n",
       "<p>54090 rows × 2 columns</p>\n",
       "</div>"
      ],
      "text/plain": [
       "      _dt_notificacao  _conclusao\n",
       "0          25/04/2020  Recuperado\n",
       "1          04/05/2020  Recuperado\n",
       "2          18/04/2020  Recuperado\n",
       "3          28/04/2020  Recuperado\n",
       "4          23/04/2020  Recuperado\n",
       "...               ...         ...\n",
       "54653      25/05/2020  Recuperado\n",
       "54654      04/05/2020  Recuperado\n",
       "54655      05/06/2020  Recuperado\n",
       "54656      03/04/2020  Recuperado\n",
       "54657      30/04/2020  Recuperado\n",
       "\n",
       "[54090 rows x 2 columns]"
      ]
     },
     "execution_count": 20,
     "metadata": {},
     "output_type": "execute_result"
    }
   ],
   "source": [
    "#obtem somente as colunas _dt_notificacao e _conclusao\n",
    "date_notification = df_recovered.filter(items=['_dt_notificacao', '_conclusao'])\n",
    "date_notification"
   ]
  },
  {
   "cell_type": "code",
   "execution_count": 21,
   "metadata": {},
   "outputs": [
    {
     "data": {
      "text/html": [
       "<div>\n",
       "<style scoped>\n",
       "    .dataframe tbody tr th:only-of-type {\n",
       "        vertical-align: middle;\n",
       "    }\n",
       "\n",
       "    .dataframe tbody tr th {\n",
       "        vertical-align: top;\n",
       "    }\n",
       "\n",
       "    .dataframe thead th {\n",
       "        text-align: right;\n",
       "    }\n",
       "</style>\n",
       "<table border=\"1\" class=\"dataframe\">\n",
       "  <thead>\n",
       "    <tr style=\"text-align: right;\">\n",
       "      <th></th>\n",
       "      <th>_dt_notificacao</th>\n",
       "    </tr>\n",
       "  </thead>\n",
       "  <tbody>\n",
       "    <tr>\n",
       "      <th>0</th>\n",
       "      <td>25/04/2020</td>\n",
       "    </tr>\n",
       "    <tr>\n",
       "      <th>1</th>\n",
       "      <td>04/05/2020</td>\n",
       "    </tr>\n",
       "    <tr>\n",
       "      <th>2</th>\n",
       "      <td>18/04/2020</td>\n",
       "    </tr>\n",
       "    <tr>\n",
       "      <th>3</th>\n",
       "      <td>28/04/2020</td>\n",
       "    </tr>\n",
       "    <tr>\n",
       "      <th>4</th>\n",
       "      <td>23/04/2020</td>\n",
       "    </tr>\n",
       "    <tr>\n",
       "      <th>...</th>\n",
       "      <td>...</td>\n",
       "    </tr>\n",
       "    <tr>\n",
       "      <th>54653</th>\n",
       "      <td>25/05/2020</td>\n",
       "    </tr>\n",
       "    <tr>\n",
       "      <th>54654</th>\n",
       "      <td>04/05/2020</td>\n",
       "    </tr>\n",
       "    <tr>\n",
       "      <th>54655</th>\n",
       "      <td>05/06/2020</td>\n",
       "    </tr>\n",
       "    <tr>\n",
       "      <th>54656</th>\n",
       "      <td>03/04/2020</td>\n",
       "    </tr>\n",
       "    <tr>\n",
       "      <th>54657</th>\n",
       "      <td>30/04/2020</td>\n",
       "    </tr>\n",
       "  </tbody>\n",
       "</table>\n",
       "<p>54090 rows × 1 columns</p>\n",
       "</div>"
      ],
      "text/plain": [
       "      _dt_notificacao\n",
       "0          25/04/2020\n",
       "1          04/05/2020\n",
       "2          18/04/2020\n",
       "3          28/04/2020\n",
       "4          23/04/2020\n",
       "...               ...\n",
       "54653      25/05/2020\n",
       "54654      04/05/2020\n",
       "54655      05/06/2020\n",
       "54656      03/04/2020\n",
       "54657      30/04/2020\n",
       "\n",
       "[54090 rows x 1 columns]"
      ]
     },
     "execution_count": 21,
     "metadata": {},
     "output_type": "execute_result"
    }
   ],
   "source": [
    "#agora somente a coluna _dt_notificação\n",
    "date_notification = df_recovered.filter(items=['_dt_notificacao'])\n",
    "date_notification"
   ]
  },
  {
   "cell_type": "code",
   "execution_count": 25,
   "metadata": {},
   "outputs": [],
   "source": [
    "#função que vai filtrar todos os casos entre a partir de 03/08\n",
    "def verifica_data(data):\n",
    "    d = int(data[0:2])\n",
    "    m = int(data[3:5])\n",
    "    y = int(data[6:])\n",
    "    \n",
    "    data = datetime.date(y, m, d)\n",
    "    often10days  = datetime.date(2020, 8, 3)\n",
    "    \n",
    "    return often10days<=data\n",
    "\n",
    "for i in range (size):\n",
    "    try:\n",
    "        if(not(verifica_data(date_notification['_dt_notificacao'][i]))):\n",
    "            date_notification['_dt_notificacao'][i] = 'Invalido'\n",
    "    except:\n",
    "        continue\n",
    "        \n",
    "new_date_notification = date_notification.loc[date_notification['_dt_notificacao'] != 'Invalido']"
   ]
  },
  {
   "cell_type": "code",
   "execution_count": 26,
   "metadata": {},
   "outputs": [],
   "source": [
    "order = new_date_notification['_dt_notificacao'].value_counts()"
   ]
  },
  {
   "cell_type": "code",
   "execution_count": 27,
   "metadata": {},
   "outputs": [],
   "source": [
    "date = order.index\n",
    "case = order.values\n",
    "\n",
    "list_of_tuples = list(zip(date, case))\n",
    "date_of_case = pd.DataFrame(list_of_tuples, columns = ['Datas', 'Casos'])"
   ]
  },
  {
   "cell_type": "code",
   "execution_count": 28,
   "metadata": {},
   "outputs": [
    {
     "data": {
      "image/png": "[encoded data removed]",
      "text/plain": [
       "<Figure size 432x288 with 1 Axes>"
      ]
     },
     "metadata": {
      "needs_background": "light"
     },
     "output_type": "display_data"
    }
   ],
   "source": [
    "fig = plt.figure()\n",
    "\n",
    "ax = fig.add_axes([0,0,1,1])\n",
    "ax.bar(date_of_case['Datas'], date_of_case['Casos'])\n",
    "\n",
    "\n",
    "plt.xticks(date_of_case['Datas'], rotation=90)\n",
    "plt.show()"
   ]
  },
  {
   "cell_type": "code",
   "execution_count": null,
   "metadata": {},
   "outputs": [],
   "source": []
  }
 ],
 "metadata": {
  "kernelspec": {
   "display_name": "Python 3",
   "language": "python",
   "name": "python3"
  },
  "language_info": {
   "codemirror_mode": {
    "name": "ipython",
    "version": 3
   },
   "file_extension": ".py",
   "mimetype": "text/x-python",
   "name": "python",
   "nbconvert_exporter": "python",
   "pygments_lexer": "ipython3",
   "version": "3.8.3"
  }
 },
 "nbformat": 4,
 "nbformat_minor": 4
}

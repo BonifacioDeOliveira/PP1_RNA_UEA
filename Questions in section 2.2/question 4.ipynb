{
 "cells": [
  {
   "cell_type": "code",
   "execution_count": 5,
   "metadata": {},
   "outputs": [],
   "source": [
    "import numpy as np\n",
    "import pandas as pd\n",
    "\n",
    "import matplotlib.pyplot as plt\n",
    "import datetime"
   ]
  },
  {
   "cell_type": "code",
   "execution_count": 24,
   "metadata": {},
   "outputs": [
    {
     "name": "stderr",
     "output_type": "stream",
     "text": [
      "C:\\Users\\luizf\\anaconda3\\lib\\site-packages\\IPython\\core\\interactiveshell.py:3071: DtypeWarning: Columns (15,21,23,29,30,31,32,34) have mixed types.Specify dtype option on import or set low_memory=False.\n",
      "  has_raised = await self.run_ast_nodes(code_ast.body, cell_name,\n"
     ]
    }
   ],
   "source": [
    "#import Manaus.csv\n",
    "df = pd.read_csv('Manaus.csv', sep=';', encoding='latin-1')\n",
    "\n",
    "#pega o tamanho do data para filtrar a data posteriormente\n",
    "size = df.size\n",
    "\n",
    "#filtra somente os casos onde a coclusão é igual a recuperado\n",
    "df_recovered = df.loc[df['_conclusao'] == 'Recuperado']"
   ]
  },
  {
   "cell_type": "code",
   "execution_count": 25,
   "metadata": {},
   "outputs": [
    {
     "data": {
      "text/html": [
       "<div>\n",
       "<style scoped>\n",
       "    .dataframe tbody tr th:only-of-type {\n",
       "        vertical-align: middle;\n",
       "    }\n",
       "\n",
       "    .dataframe tbody tr th {\n",
       "        vertical-align: top;\n",
       "    }\n",
       "\n",
       "    .dataframe thead th {\n",
       "        text-align: right;\n",
       "    }\n",
       "</style>\n",
       "<table border=\"1\" class=\"dataframe\">\n",
       "  <thead>\n",
       "    <tr style=\"text-align: right;\">\n",
       "      <th></th>\n",
       "      <th>_dt_notificacao</th>\n",
       "      <th>_conclusao</th>\n",
       "    </tr>\n",
       "  </thead>\n",
       "  <tbody>\n",
       "    <tr>\n",
       "      <th>3</th>\n",
       "      <td>25/04/2020</td>\n",
       "      <td>Recuperado</td>\n",
       "    </tr>\n",
       "    <tr>\n",
       "      <th>5</th>\n",
       "      <td>04/05/2020</td>\n",
       "      <td>Recuperado</td>\n",
       "    </tr>\n",
       "    <tr>\n",
       "      <th>7</th>\n",
       "      <td>18/04/2020</td>\n",
       "      <td>Recuperado</td>\n",
       "    </tr>\n",
       "    <tr>\n",
       "      <th>10</th>\n",
       "      <td>28/04/2020</td>\n",
       "      <td>Recuperado</td>\n",
       "    </tr>\n",
       "    <tr>\n",
       "      <th>12</th>\n",
       "      <td>23/04/2020</td>\n",
       "      <td>Recuperado</td>\n",
       "    </tr>\n",
       "    <tr>\n",
       "      <th>...</th>\n",
       "      <td>...</td>\n",
       "      <td>...</td>\n",
       "    </tr>\n",
       "    <tr>\n",
       "      <th>113525</th>\n",
       "      <td>25/05/2020</td>\n",
       "      <td>Recuperado</td>\n",
       "    </tr>\n",
       "    <tr>\n",
       "      <th>113526</th>\n",
       "      <td>04/05/2020</td>\n",
       "      <td>Recuperado</td>\n",
       "    </tr>\n",
       "    <tr>\n",
       "      <th>113527</th>\n",
       "      <td>05/06/2020</td>\n",
       "      <td>Recuperado</td>\n",
       "    </tr>\n",
       "    <tr>\n",
       "      <th>113529</th>\n",
       "      <td>03/04/2020</td>\n",
       "      <td>Recuperado</td>\n",
       "    </tr>\n",
       "    <tr>\n",
       "      <th>113532</th>\n",
       "      <td>30/04/2020</td>\n",
       "      <td>Recuperado</td>\n",
       "    </tr>\n",
       "  </tbody>\n",
       "</table>\n",
       "<p>65034 rows × 2 columns</p>\n",
       "</div>"
      ],
      "text/plain": [
       "       _dt_notificacao  _conclusao\n",
       "3           25/04/2020  Recuperado\n",
       "5           04/05/2020  Recuperado\n",
       "7           18/04/2020  Recuperado\n",
       "10          28/04/2020  Recuperado\n",
       "12          23/04/2020  Recuperado\n",
       "...                ...         ...\n",
       "113525      25/05/2020  Recuperado\n",
       "113526      04/05/2020  Recuperado\n",
       "113527      05/06/2020  Recuperado\n",
       "113529      03/04/2020  Recuperado\n",
       "113532      30/04/2020  Recuperado\n",
       "\n",
       "[65034 rows x 2 columns]"
      ]
     },
     "execution_count": 25,
     "metadata": {},
     "output_type": "execute_result"
    }
   ],
   "source": [
    "#obtem somente as colunas _dt_notificacao e _conclusao\n",
    "date_notification = df_recovered.filter(items=['_dt_notificacao', '_conclusao'])\n",
    "date_notification"
   ]
  },
  {
   "cell_type": "code",
   "execution_count": 26,
   "metadata": {},
   "outputs": [
    {
     "data": {
      "text/html": [
       "<div>\n",
       "<style scoped>\n",
       "    .dataframe tbody tr th:only-of-type {\n",
       "        vertical-align: middle;\n",
       "    }\n",
       "\n",
       "    .dataframe tbody tr th {\n",
       "        vertical-align: top;\n",
       "    }\n",
       "\n",
       "    .dataframe thead th {\n",
       "        text-align: right;\n",
       "    }\n",
       "</style>\n",
       "<table border=\"1\" class=\"dataframe\">\n",
       "  <thead>\n",
       "    <tr style=\"text-align: right;\">\n",
       "      <th></th>\n",
       "      <th>_dt_notificacao</th>\n",
       "    </tr>\n",
       "  </thead>\n",
       "  <tbody>\n",
       "    <tr>\n",
       "      <th>3</th>\n",
       "      <td>25/04/2020</td>\n",
       "    </tr>\n",
       "    <tr>\n",
       "      <th>5</th>\n",
       "      <td>04/05/2020</td>\n",
       "    </tr>\n",
       "    <tr>\n",
       "      <th>7</th>\n",
       "      <td>18/04/2020</td>\n",
       "    </tr>\n",
       "    <tr>\n",
       "      <th>10</th>\n",
       "      <td>28/04/2020</td>\n",
       "    </tr>\n",
       "    <tr>\n",
       "      <th>12</th>\n",
       "      <td>23/04/2020</td>\n",
       "    </tr>\n",
       "    <tr>\n",
       "      <th>...</th>\n",
       "      <td>...</td>\n",
       "    </tr>\n",
       "    <tr>\n",
       "      <th>113525</th>\n",
       "      <td>25/05/2020</td>\n",
       "    </tr>\n",
       "    <tr>\n",
       "      <th>113526</th>\n",
       "      <td>04/05/2020</td>\n",
       "    </tr>\n",
       "    <tr>\n",
       "      <th>113527</th>\n",
       "      <td>05/06/2020</td>\n",
       "    </tr>\n",
       "    <tr>\n",
       "      <th>113529</th>\n",
       "      <td>03/04/2020</td>\n",
       "    </tr>\n",
       "    <tr>\n",
       "      <th>113532</th>\n",
       "      <td>30/04/2020</td>\n",
       "    </tr>\n",
       "  </tbody>\n",
       "</table>\n",
       "<p>65034 rows × 1 columns</p>\n",
       "</div>"
      ],
      "text/plain": [
       "       _dt_notificacao\n",
       "3           25/04/2020\n",
       "5           04/05/2020\n",
       "7           18/04/2020\n",
       "10          28/04/2020\n",
       "12          23/04/2020\n",
       "...                ...\n",
       "113525      25/05/2020\n",
       "113526      04/05/2020\n",
       "113527      05/06/2020\n",
       "113529      03/04/2020\n",
       "113532      30/04/2020\n",
       "\n",
       "[65034 rows x 1 columns]"
      ]
     },
     "execution_count": 26,
     "metadata": {},
     "output_type": "execute_result"
    }
   ],
   "source": [
    "#agora somente a coluna _dt_notificação\n",
    "date_notification = df_recovered.filter(items=['_dt_notificacao'])\n",
    "date_notification"
   ]
  },
  {
   "cell_type": "code",
   "execution_count": 27,
   "metadata": {},
   "outputs": [
    {
     "data": {
      "text/html": [
       "<div>\n",
       "<style scoped>\n",
       "    .dataframe tbody tr th:only-of-type {\n",
       "        vertical-align: middle;\n",
       "    }\n",
       "\n",
       "    .dataframe tbody tr th {\n",
       "        vertical-align: top;\n",
       "    }\n",
       "\n",
       "    .dataframe thead th {\n",
       "        text-align: right;\n",
       "    }\n",
       "</style>\n",
       "<table border=\"1\" class=\"dataframe\">\n",
       "  <thead>\n",
       "    <tr style=\"text-align: right;\">\n",
       "      <th></th>\n",
       "      <th>_dt_notificacao</th>\n",
       "    </tr>\n",
       "  </thead>\n",
       "  <tbody>\n",
       "  </tbody>\n",
       "</table>\n",
       "</div>"
      ],
      "text/plain": [
       "Empty DataFrame\n",
       "Columns: [_dt_notificacao]\n",
       "Index: []"
      ]
     },
     "execution_count": 27,
     "metadata": {},
     "output_type": "execute_result"
    }
   ],
   "source": [
    "#função que vai filtrar todos os casos entre a partir de 03/08\n",
    "def verifica_data(data):\n",
    "    d = int(data[0:2])\n",
    "    m = int(data[3:5])\n",
    "    y = int(data[6:])\n",
    "    \n",
    "    data = datetime.date(y, m, d)\n",
    "    often10days  = datetime.date(2020, 8, 3)\n",
    "    \n",
    "    return often10days<=data\n",
    "\n",
    "for i in range (size):\n",
    "    try:\n",
    "        if(not(verifica_data(date_notification['_dt_notificacao'][i]))):\n",
    "            date_notification['_dt_notificacao'][i] = 'Invalido'\n",
    "    except:\n",
    "        continue\n",
    "        \n",
    "new_date_notification = date_notification.loc[date_notification['_dt_notificacao'] != 'Invalido']\n",
    "\n",
    "new_date_notification"
   ]
  },
  {
   "cell_type": "code",
   "execution_count": 97,
   "metadata": {},
   "outputs": [
    {
     "data": {
      "text/plain": [
       "27/05/2020    1557\n",
       "28/05/2020    1417\n",
       "12/05/2020    1322\n",
       "16/06/2020    1290\n",
       "20/05/2020    1281\n",
       "              ... \n",
       "06/01/2020       1\n",
       "12/01/2020       1\n",
       "01/02/2020       1\n",
       "24/01/2020       1\n",
       "16/01/2020       1\n",
       "Name: _dt_notificacao, Length: 185, dtype: int64"
      ]
     },
     "execution_count": 97,
     "metadata": {},
     "output_type": "execute_result"
    }
   ],
   "source": [
    "order = new_date_notification['_dt_notificacao'].value_counts()\n",
    "order"
   ]
  },
  {
   "cell_type": "code",
   "execution_count": 98,
   "metadata": {},
   "outputs": [
    {
     "data": {
      "text/html": [
       "<div>\n",
       "<style scoped>\n",
       "    .dataframe tbody tr th:only-of-type {\n",
       "        vertical-align: middle;\n",
       "    }\n",
       "\n",
       "    .dataframe tbody tr th {\n",
       "        vertical-align: top;\n",
       "    }\n",
       "\n",
       "    .dataframe thead th {\n",
       "        text-align: right;\n",
       "    }\n",
       "</style>\n",
       "<table border=\"1\" class=\"dataframe\">\n",
       "  <thead>\n",
       "    <tr style=\"text-align: right;\">\n",
       "      <th></th>\n",
       "      <th>Datas</th>\n",
       "      <th>Casos</th>\n",
       "    </tr>\n",
       "  </thead>\n",
       "  <tbody>\n",
       "    <tr>\n",
       "      <th>0</th>\n",
       "      <td>27/05/2020</td>\n",
       "      <td>1557</td>\n",
       "    </tr>\n",
       "    <tr>\n",
       "      <th>1</th>\n",
       "      <td>28/05/2020</td>\n",
       "      <td>1417</td>\n",
       "    </tr>\n",
       "    <tr>\n",
       "      <th>2</th>\n",
       "      <td>12/05/2020</td>\n",
       "      <td>1322</td>\n",
       "    </tr>\n",
       "    <tr>\n",
       "      <th>3</th>\n",
       "      <td>16/06/2020</td>\n",
       "      <td>1290</td>\n",
       "    </tr>\n",
       "    <tr>\n",
       "      <th>4</th>\n",
       "      <td>20/05/2020</td>\n",
       "      <td>1281</td>\n",
       "    </tr>\n",
       "    <tr>\n",
       "      <th>...</th>\n",
       "      <td>...</td>\n",
       "      <td>...</td>\n",
       "    </tr>\n",
       "    <tr>\n",
       "      <th>180</th>\n",
       "      <td>06/01/2020</td>\n",
       "      <td>1</td>\n",
       "    </tr>\n",
       "    <tr>\n",
       "      <th>181</th>\n",
       "      <td>12/01/2020</td>\n",
       "      <td>1</td>\n",
       "    </tr>\n",
       "    <tr>\n",
       "      <th>182</th>\n",
       "      <td>01/02/2020</td>\n",
       "      <td>1</td>\n",
       "    </tr>\n",
       "    <tr>\n",
       "      <th>183</th>\n",
       "      <td>24/01/2020</td>\n",
       "      <td>1</td>\n",
       "    </tr>\n",
       "    <tr>\n",
       "      <th>184</th>\n",
       "      <td>16/01/2020</td>\n",
       "      <td>1</td>\n",
       "    </tr>\n",
       "  </tbody>\n",
       "</table>\n",
       "<p>185 rows × 2 columns</p>\n",
       "</div>"
      ],
      "text/plain": [
       "          Datas  Casos\n",
       "0    27/05/2020   1557\n",
       "1    28/05/2020   1417\n",
       "2    12/05/2020   1322\n",
       "3    16/06/2020   1290\n",
       "4    20/05/2020   1281\n",
       "..          ...    ...\n",
       "180  06/01/2020      1\n",
       "181  12/01/2020      1\n",
       "182  01/02/2020      1\n",
       "183  24/01/2020      1\n",
       "184  16/01/2020      1\n",
       "\n",
       "[185 rows x 2 columns]"
      ]
     },
     "execution_count": 98,
     "metadata": {},
     "output_type": "execute_result"
    }
   ],
   "source": [
    "date = order.index\n",
    "case = order.values\n",
    "\n",
    "list_of_tuples = list(zip(date, case))\n",
    "date_of_case = pd.DataFrame(list_of_tuples, columns = ['Datas', 'Casos'])\n",
    "\n",
    "date_of_case"
   ]
  },
  {
   "cell_type": "code",
   "execution_count": 99,
   "metadata": {},
   "outputs": [
    {
     "data": {
      "image/png": "[encoded data removed]",
      "text/plain": [
       "<Figure size 432x288 with 1 Axes>"
      ]
     },
     "metadata": {
      "needs_background": "light"
     },
     "output_type": "display_data"
    }
   ],
   "source": [
    "fig = plt.figure()\n",
    "\n",
    "ax = fig.add_axes([0,0,1,1])\n",
    "ax.bar(date_of_case['Datas'], date_of_case['Casos'])\n",
    "\n",
    "\n",
    "plt.xticks(date_of_case['Datas'], rotation=90)\n",
    "plt.show()"
   ]
  }
 ],
 "metadata": {
  "kernelspec": {
   "display_name": "Python 3",
   "language": "python",
   "name": "python3"
  },
  "language_info": {
   "codemirror_mode": {
    "name": "ipython",
    "version": 3
   },
   "file_extension": ".py",
   "mimetype": "text/x-python",
   "name": "python",
   "nbconvert_exporter": "python",
   "pygments_lexer": "ipython3",
   "version": "3.8.3"
  }
 },
 "nbformat": 4,
 "nbformat_minor": 4
}

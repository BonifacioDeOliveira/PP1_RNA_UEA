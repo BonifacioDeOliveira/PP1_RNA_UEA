{
 "cells": [
  {
   "cell_type": "code",
   "execution_count": 35,
   "metadata": {},
   "outputs": [
    {
     "name": "stderr",
     "output_type": "stream",
     "text": [
      "c:\\users\\luiz fabio\\appdata\\local\\programs\\python\\python38-32\\lib\\site-packages\\IPython\\core\\interactiveshell.py:3145: DtypeWarning: Columns (15,21,23,29,30,31,32,34) have mixed types.Specify dtype option on import or set low_memory=False.\n",
      "  has_raised = await self.run_ast_nodes(code_ast.body, cell_name,\n"
     ]
    }
   ],
   "source": [
    "%matplotlib inline\n",
    "import pandas as pd\n",
    "import numpy as np\n",
    "import matplotlib.pyplot as plt\n",
    "import seaborn as sns\n",
    "import io\n",
    "import datetime\n",
    "\n",
    "df = pd.read_csv('Manaus.csv', sep=';', encoding='latin-1')\n",
    "\n",
    "#Limpeza\n",
    "cleaned_data = df[['_idade','_sexo','_bairro','_classificacao','_conclusao','_dt_notificacao','_teste_pcr','_teste_anticorpo','_teste_antigeno','_teste_igm','_teste_igg','_faixa etária']]\n",
    "cleaned_data = cleaned_data.dropna()\n",
    "cleaned_data = cleaned_data.reset_index(drop=True)\n",
    "df = cleaned_data"
   ]
  },
  {
   "cell_type": "code",
   "execution_count": 36,
   "metadata": {},
   "outputs": [
    {
     "data": {
      "text/html": [
       "<div>\n",
       "<style scoped>\n",
       "    .dataframe tbody tr th:only-of-type {\n",
       "        vertical-align: middle;\n",
       "    }\n",
       "\n",
       "    .dataframe tbody tr th {\n",
       "        vertical-align: top;\n",
       "    }\n",
       "\n",
       "    .dataframe thead th {\n",
       "        text-align: right;\n",
       "    }\n",
       "</style>\n",
       "<table border=\"1\" class=\"dataframe\">\n",
       "  <thead>\n",
       "    <tr style=\"text-align: right;\">\n",
       "      <th></th>\n",
       "      <th>_idade</th>\n",
       "      <th>_sexo</th>\n",
       "      <th>_bairro</th>\n",
       "      <th>_classificacao</th>\n",
       "      <th>_conclusao</th>\n",
       "      <th>_dt_notificacao</th>\n",
       "      <th>_teste_pcr</th>\n",
       "      <th>_teste_anticorpo</th>\n",
       "      <th>_teste_antigeno</th>\n",
       "      <th>_teste_igm</th>\n",
       "      <th>_teste_igg</th>\n",
       "      <th>_faixa etária</th>\n",
       "    </tr>\n",
       "  </thead>\n",
       "  <tbody>\n",
       "    <tr>\n",
       "      <th>0</th>\n",
       "      <td>43.0</td>\n",
       "      <td>F</td>\n",
       "      <td>SANTA ETELVINA</td>\n",
       "      <td>Em análise</td>\n",
       "      <td>Recuperado</td>\n",
       "      <td>08/04/2020</td>\n",
       "      <td>0.0</td>\n",
       "      <td>0.0</td>\n",
       "      <td>0.0</td>\n",
       "      <td>0.0</td>\n",
       "      <td>0.0</td>\n",
       "      <td>40a - 49a</td>\n",
       "    </tr>\n",
       "    <tr>\n",
       "      <th>1</th>\n",
       "      <td>39.0</td>\n",
       "      <td>M</td>\n",
       "      <td>CRESPO</td>\n",
       "      <td>Em análise</td>\n",
       "      <td>Recuperado</td>\n",
       "      <td>31/03/2020</td>\n",
       "      <td>0.0</td>\n",
       "      <td>0.0</td>\n",
       "      <td>0.0</td>\n",
       "      <td>0.0</td>\n",
       "      <td>0.0</td>\n",
       "      <td>30a - 39a</td>\n",
       "    </tr>\n",
       "    <tr>\n",
       "      <th>2</th>\n",
       "      <td>42.0</td>\n",
       "      <td>F</td>\n",
       "      <td>JAPIIM 1</td>\n",
       "      <td>Em análise</td>\n",
       "      <td>Recuperado</td>\n",
       "      <td>07/04/2020</td>\n",
       "      <td>0.0</td>\n",
       "      <td>0.0</td>\n",
       "      <td>0.0</td>\n",
       "      <td>0.0</td>\n",
       "      <td>0.0</td>\n",
       "      <td>40a - 49a</td>\n",
       "    </tr>\n",
       "    <tr>\n",
       "      <th>3</th>\n",
       "      <td>35.0</td>\n",
       "      <td>F</td>\n",
       "      <td>JORGE TEIXEIRA</td>\n",
       "      <td>Em análise</td>\n",
       "      <td>Recuperado</td>\n",
       "      <td>04/05/2020</td>\n",
       "      <td>0.0</td>\n",
       "      <td>0.0</td>\n",
       "      <td>0.0</td>\n",
       "      <td>0.0</td>\n",
       "      <td>0.0</td>\n",
       "      <td>30a - 39a</td>\n",
       "    </tr>\n",
       "    <tr>\n",
       "      <th>4</th>\n",
       "      <td>45.0</td>\n",
       "      <td>F</td>\n",
       "      <td>COROADO</td>\n",
       "      <td>Em análise</td>\n",
       "      <td>Recuperado</td>\n",
       "      <td>04/05/2020</td>\n",
       "      <td>0.0</td>\n",
       "      <td>0.0</td>\n",
       "      <td>0.0</td>\n",
       "      <td>0.0</td>\n",
       "      <td>0.0</td>\n",
       "      <td>40a - 49a</td>\n",
       "    </tr>\n",
       "    <tr>\n",
       "      <th>...</th>\n",
       "      <td>...</td>\n",
       "      <td>...</td>\n",
       "      <td>...</td>\n",
       "      <td>...</td>\n",
       "      <td>...</td>\n",
       "      <td>...</td>\n",
       "      <td>...</td>\n",
       "      <td>...</td>\n",
       "      <td>...</td>\n",
       "      <td>...</td>\n",
       "      <td>...</td>\n",
       "      <td>...</td>\n",
       "    </tr>\n",
       "    <tr>\n",
       "      <th>54777</th>\n",
       "      <td>71.0</td>\n",
       "      <td>M</td>\n",
       "      <td>PLANALTO</td>\n",
       "      <td>Descartado</td>\n",
       "      <td>Recuperado</td>\n",
       "      <td>25/06/2020</td>\n",
       "      <td>1.0</td>\n",
       "      <td>0.0</td>\n",
       "      <td>0.0</td>\n",
       "      <td>0.0</td>\n",
       "      <td>0.0</td>\n",
       "      <td>70a - 79a</td>\n",
       "    </tr>\n",
       "    <tr>\n",
       "      <th>54778</th>\n",
       "      <td>54.0</td>\n",
       "      <td>F</td>\n",
       "      <td>COROADO</td>\n",
       "      <td>Descartado</td>\n",
       "      <td>Recuperado</td>\n",
       "      <td>27/06/2020</td>\n",
       "      <td>1.0</td>\n",
       "      <td>1.0</td>\n",
       "      <td>0.0</td>\n",
       "      <td>0.0</td>\n",
       "      <td>0.0</td>\n",
       "      <td>50a - 59a</td>\n",
       "    </tr>\n",
       "    <tr>\n",
       "      <th>54779</th>\n",
       "      <td>56.0</td>\n",
       "      <td>F</td>\n",
       "      <td>SAO JORGE</td>\n",
       "      <td>Confirmado</td>\n",
       "      <td>Recuperado</td>\n",
       "      <td>09/07/2020</td>\n",
       "      <td>1.0</td>\n",
       "      <td>0.0</td>\n",
       "      <td>1.0</td>\n",
       "      <td>0.0</td>\n",
       "      <td>0.0</td>\n",
       "      <td>50a - 59a</td>\n",
       "    </tr>\n",
       "    <tr>\n",
       "      <th>54780</th>\n",
       "      <td>4.0</td>\n",
       "      <td>M</td>\n",
       "      <td>ALVORADA II</td>\n",
       "      <td>Descartado</td>\n",
       "      <td>Recuperado</td>\n",
       "      <td>08/07/2020</td>\n",
       "      <td>1.0</td>\n",
       "      <td>0.0</td>\n",
       "      <td>1.0</td>\n",
       "      <td>0.0</td>\n",
       "      <td>0.0</td>\n",
       "      <td>1a - 4a</td>\n",
       "    </tr>\n",
       "    <tr>\n",
       "      <th>54781</th>\n",
       "      <td>10.0</td>\n",
       "      <td>F</td>\n",
       "      <td>MONTE SIAO</td>\n",
       "      <td>Descartado</td>\n",
       "      <td>Recuperado</td>\n",
       "      <td>10/07/2020</td>\n",
       "      <td>2.0</td>\n",
       "      <td>1.0</td>\n",
       "      <td>0.0</td>\n",
       "      <td>0.0</td>\n",
       "      <td>0.0</td>\n",
       "      <td>10a - 14a</td>\n",
       "    </tr>\n",
       "  </tbody>\n",
       "</table>\n",
       "<p>54782 rows × 12 columns</p>\n",
       "</div>"
      ],
      "text/plain": [
       "       _idade _sexo         _bairro _classificacao  _conclusao  \\\n",
       "0        43.0     F  SANTA ETELVINA     Em análise  Recuperado   \n",
       "1        39.0     M          CRESPO     Em análise  Recuperado   \n",
       "2        42.0     F        JAPIIM 1     Em análise  Recuperado   \n",
       "3        35.0     F  JORGE TEIXEIRA     Em análise  Recuperado   \n",
       "4        45.0     F         COROADO     Em análise  Recuperado   \n",
       "...       ...   ...             ...            ...         ...   \n",
       "54777    71.0     M        PLANALTO     Descartado  Recuperado   \n",
       "54778    54.0     F         COROADO     Descartado  Recuperado   \n",
       "54779    56.0     F       SAO JORGE     Confirmado  Recuperado   \n",
       "54780     4.0     M     ALVORADA II     Descartado  Recuperado   \n",
       "54781    10.0     F      MONTE SIAO     Descartado  Recuperado   \n",
       "\n",
       "      _dt_notificacao  _teste_pcr  _teste_anticorpo  _teste_antigeno  \\\n",
       "0          08/04/2020         0.0               0.0              0.0   \n",
       "1          31/03/2020         0.0               0.0              0.0   \n",
       "2          07/04/2020         0.0               0.0              0.0   \n",
       "3          04/05/2020         0.0               0.0              0.0   \n",
       "4          04/05/2020         0.0               0.0              0.0   \n",
       "...               ...         ...               ...              ...   \n",
       "54777      25/06/2020         1.0               0.0              0.0   \n",
       "54778      27/06/2020         1.0               1.0              0.0   \n",
       "54779      09/07/2020         1.0               0.0              1.0   \n",
       "54780      08/07/2020         1.0               0.0              1.0   \n",
       "54781      10/07/2020         2.0               1.0              0.0   \n",
       "\n",
       "       _teste_igm  _teste_igg _faixa etária  \n",
       "0             0.0         0.0     40a - 49a  \n",
       "1             0.0         0.0     30a - 39a  \n",
       "2             0.0         0.0     40a - 49a  \n",
       "3             0.0         0.0     30a - 39a  \n",
       "4             0.0         0.0     40a - 49a  \n",
       "...           ...         ...           ...  \n",
       "54777         0.0         0.0     70a - 79a  \n",
       "54778         0.0         0.0     50a - 59a  \n",
       "54779         0.0         0.0     50a - 59a  \n",
       "54780         0.0         0.0       1a - 4a  \n",
       "54781         0.0         0.0     10a - 14a  \n",
       "\n",
       "[54782 rows x 12 columns]"
      ]
     },
     "execution_count": 36,
     "metadata": {},
     "output_type": "execute_result"
    }
   ],
   "source": [
    "n = df.size\n",
    "\n",
    "df"
   ]
  },
  {
   "cell_type": "code",
   "execution_count": 37,
   "metadata": {},
   "outputs": [],
   "source": [
    "casos_confirmados = df.loc[df['_classificacao'] == 'Confirmado']"
   ]
  },
  {
   "cell_type": "code",
   "execution_count": 38,
   "metadata": {},
   "outputs": [],
   "source": [
    "casos_confirmados_dt_notificao = casos_confirmados.filter(items=['_dt_notificacao'])"
   ]
  },
  {
   "cell_type": "code",
   "execution_count": 39,
   "metadata": {},
   "outputs": [],
   "source": [
    "def verifica_data(data):\n",
    "    d = int(data[0:2])\n",
    "    m = int(data[3:5])\n",
    "    y = int(data[6:])\n",
    "    \n",
    "    data = datetime.date(y, m, d)\n",
    "    often10days  = datetime.date(2020, 8, 3)\n",
    "    \n",
    "    return often10days<=data"
   ]
  },
  {
   "cell_type": "code",
   "execution_count": 40,
   "metadata": {},
   "outputs": [],
   "source": [
    "for i in range (n):\n",
    "    try:\n",
    "        if(not(verifica_data(casos_confirmados_dt_notificao['_dt_notificacao'][i]))):\n",
    "            casos_confirmados_dt_notificao['_dt_notificacao'][i] = 'Invalido'\n",
    "    except:\n",
    "        continue"
   ]
  },
  {
   "cell_type": "code",
   "execution_count": 41,
   "metadata": {},
   "outputs": [],
   "source": [
    "ultimos10dias = casos_confirmados_dt_notificao.loc[casos_confirmados_dt_notificao['_dt_notificacao'] != 'Invalido']"
   ]
  },
  {
   "cell_type": "code",
   "execution_count": 42,
   "metadata": {},
   "outputs": [
    {
     "data": {
      "text/html": [
       "<div>\n",
       "<style scoped>\n",
       "    .dataframe tbody tr th:only-of-type {\n",
       "        vertical-align: middle;\n",
       "    }\n",
       "\n",
       "    .dataframe tbody tr th {\n",
       "        vertical-align: top;\n",
       "    }\n",
       "\n",
       "    .dataframe thead th {\n",
       "        text-align: right;\n",
       "    }\n",
       "</style>\n",
       "<table border=\"1\" class=\"dataframe\">\n",
       "  <thead>\n",
       "    <tr style=\"text-align: right;\">\n",
       "      <th></th>\n",
       "      <th>_dt_notificacao</th>\n",
       "    </tr>\n",
       "  </thead>\n",
       "  <tbody>\n",
       "    <tr>\n",
       "      <th>53855</th>\n",
       "      <td>04/08/2020</td>\n",
       "    </tr>\n",
       "    <tr>\n",
       "      <th>53922</th>\n",
       "      <td>04/08/2020</td>\n",
       "    </tr>\n",
       "    <tr>\n",
       "      <th>54549</th>\n",
       "      <td>09/08/2020</td>\n",
       "    </tr>\n",
       "  </tbody>\n",
       "</table>\n",
       "</div>"
      ],
      "text/plain": [
       "      _dt_notificacao\n",
       "53855      04/08/2020\n",
       "53922      04/08/2020\n",
       "54549      09/08/2020"
      ]
     },
     "execution_count": 42,
     "metadata": {},
     "output_type": "execute_result"
    }
   ],
   "source": [
    "ultimos10dias"
   ]
  },
  {
   "cell_type": "code",
   "execution_count": 43,
   "metadata": {},
   "outputs": [
    {
     "data": {
      "text/plain": [
       "09/08/2020    1\n",
       "04/08/2020    2\n",
       "Name: _dt_notificacao, dtype: int64"
      ]
     },
     "execution_count": 43,
     "metadata": {},
     "output_type": "execute_result"
    }
   ],
   "source": [
    "ultimos10dias = ultimos10dias['_dt_notificacao'].value_counts()\n",
    "ultimos10dias.sort_values()"
   ]
  },
  {
   "cell_type": "code",
   "execution_count": 44,
   "metadata": {},
   "outputs": [
    {
     "data": {
      "text/html": [
       "<div>\n",
       "<style scoped>\n",
       "    .dataframe tbody tr th:only-of-type {\n",
       "        vertical-align: middle;\n",
       "    }\n",
       "\n",
       "    .dataframe tbody tr th {\n",
       "        vertical-align: top;\n",
       "    }\n",
       "\n",
       "    .dataframe thead th {\n",
       "        text-align: right;\n",
       "    }\n",
       "</style>\n",
       "<table border=\"1\" class=\"dataframe\">\n",
       "  <thead>\n",
       "    <tr style=\"text-align: right;\">\n",
       "      <th></th>\n",
       "      <th>Datas</th>\n",
       "      <th>Casos</th>\n",
       "    </tr>\n",
       "  </thead>\n",
       "  <tbody>\n",
       "    <tr>\n",
       "      <th>0</th>\n",
       "      <td>04/08/2020</td>\n",
       "      <td>2</td>\n",
       "    </tr>\n",
       "    <tr>\n",
       "      <th>1</th>\n",
       "      <td>09/08/2020</td>\n",
       "      <td>1</td>\n",
       "    </tr>\n",
       "  </tbody>\n",
       "</table>\n",
       "</div>"
      ],
      "text/plain": [
       "        Datas  Casos\n",
       "0  04/08/2020      2\n",
       "1  09/08/2020      1"
      ]
     },
     "metadata": {},
     "output_type": "display_data"
    }
   ],
   "source": [
    "datas = ultimos10dias.index\n",
    "casos = ultimos10dias.values\n",
    "\n",
    "list_of_tuples = list(zip(datas, casos))  \n",
    "\n",
    "datas_casos = pd.DataFrame(list_of_tuples, columns = ['Datas', 'Casos'])\n",
    "\n",
    "display(datas_casos)"
   ]
  },
  {
   "cell_type": "code",
   "execution_count": 45,
   "metadata": {},
   "outputs": [
    {
     "data": {
      "image/png": "[encoded data removed]",
      "text/plain": [
       "<Figure size 432x288 with 1 Axes>"
      ]
     },
     "metadata": {
      "needs_background": "light"
     },
     "output_type": "display_data"
    }
   ],
   "source": [
    "fig = plt.figure()\n",
    "ax = fig.add_axes([0,0,1,1])\n",
    "ax.bar(datas_casos['Datas'], datas_casos['Casos'])\n",
    "ax.set_xlabel('Ultimos 10 dias')\n",
    "ax.set_ylabel('N° Casos')\n",
    "plt.xticks(datas_casos['Datas'],rotation=90)\n",
    "plt.show()"
   ]
  },
  {
   "cell_type": "code",
   "execution_count": null,
   "metadata": {},
   "outputs": [],
   "source": []
  }
 ],
 "metadata": {
  "kernelspec": {
   "display_name": "Python 3",
   "language": "python",
   "name": "python3"
  },
  "language_info": {
   "codemirror_mode": {
    "name": "ipython",
    "version": 3
   },
   "file_extension": ".py",
   "mimetype": "text/x-python",
   "name": "python",
   "nbconvert_exporter": "python",
   "pygments_lexer": "ipython3",
   "version": "3.8.3"
  }
 },
 "nbformat": 4,
 "nbformat_minor": 4
}

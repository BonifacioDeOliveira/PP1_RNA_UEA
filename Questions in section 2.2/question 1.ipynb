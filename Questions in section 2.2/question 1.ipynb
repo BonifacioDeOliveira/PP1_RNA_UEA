{
 "cells": [
  {
   "cell_type": "code",
   "execution_count": 33,
   "metadata": {},
   "outputs": [
    {
     "name": "stderr",
     "output_type": "stream",
     "text": [
      "c:\\users\\luiz fabio\\appdata\\local\\programs\\python\\python38-32\\lib\\site-packages\\IPython\\core\\interactiveshell.py:3145: DtypeWarning: Columns (15,21,23,29,30,31,32,34) have mixed types.Specify dtype option on import or set low_memory=False.\n",
      "  has_raised = await self.run_ast_nodes(code_ast.body, cell_name,\n"
     ]
    }
   ],
   "source": [
    "%matplotlib inline\n",
    "import pandas as pd\n",
    "import numpy as np\n",
    "import matplotlib.pyplot as plt\n",
    "import seaborn as sns\n",
    "import io\n",
    "\n",
    "df = pd.read_csv('Manaus.csv', sep=';', encoding='latin-1')\n",
    "pd.set_option('display.max_rows', None)"
   ]
  },
  {
   "cell_type": "code",
   "execution_count": 34,
   "metadata": {},
   "outputs": [],
   "source": [
    "#Limpeza\n",
    "cleaned_data = df[['_idade','_sexo','_bairro_mapa','_classificacao','_conclusao','_dt_notificacao','_teste_pcr','_teste_anticorpo','_teste_antigeno','_teste_igm','_teste_igg','_faixa etária']]\n",
    "cleaned_data = cleaned_data.dropna()\n",
    "cleaned_data = cleaned_data.reset_index(drop=True)\n",
    "df = cleaned_data"
   ]
  },
  {
   "cell_type": "code",
   "execution_count": 35,
   "metadata": {},
   "outputs": [],
   "source": [
    "teste = df.loc[df['_classificacao'] == 'Confirmado']\n",
    "numero_casos = teste.shape[0]"
   ]
  },
  {
   "cell_type": "code",
   "execution_count": 36,
   "metadata": {},
   "outputs": [
    {
     "data": {
      "text/plain": [
       "CIDADE NOVA                 559\n",
       "FLORES                      361\n",
       "SÃO JOSÉ OPERÁRIO           341\n",
       "ALVORADA                    330\n",
       "PARQUE 10 DE NOVEMBRO       317\n",
       "COMPENSA                    307\n",
       "JORGE TEIXEIRA              282\n",
       "COROADO                     278\n",
       "TARUMÃ                      267\n",
       "PETRÓPOLIS                  266\n",
       "NOVO ALEIXO                 265\n",
       "JAPIIM                      241\n",
       "ALEIXO                      207\n",
       "CENTRO                      205\n",
       "REDENÇÃO                    176\n",
       "TANCREDO NEVES              169\n",
       "NOVA CIDADE                 165\n",
       "ADRIANÓPOLIS                156\n",
       "DOM PEDRO                   132\n",
       "COLÔNIA TERRA NOVA          131\n",
       "CIDADE DE DEUS              127\n",
       "ZUMBI DOS PALMARES          122\n",
       "SÃO JORGE                   117\n",
       "PLANALTO                    115\n",
       "SANTO ANTÔNIO               113\n",
       "PONTA NEGRA                 106\n",
       "LÍRIO DO VALE               103\n",
       "MONTE DAS OLIVEIRAS         100\n",
       "NOSSA SENHORA DAS GRAÇAS     99\n",
       "GILBERTO MESTRINHO           92\n",
       "NOVA ESPERANÇA               88\n",
       "BETÂNIA                      88\n",
       "CACHOEIRINHA                 88\n",
       "SANTA ETELVINA               83\n",
       "DA PAZ                       78\n",
       "SÃO FRANCISCO                76\n",
       "LAGO AZUL                    72\n",
       "ARMANDO MENDES               70\n",
       "SANTO AGOSTINHO              68\n",
       "DISTRITO INDUSTRIAL I        68\n",
       "CHAPADA                      67\n",
       "PRAÇA 14 DE JANEIRO          66\n",
       "COLÔNIA SANTO ANTÔNIO        64\n",
       "VILA BURITI                  63\n",
       "RAIZ                         63\n",
       "MAUAZINHO                    59\n",
       "EDUCANDOS                    56\n",
       "SÃO RAIMUNDO                 56\n",
       "SÃO LÁZARO                   54\n",
       "VILA DA PRATA                50\n",
       "COLÔNIA ANTÔNIO ALEIXO       50\n",
       "COLÔNIA OLIVEIRA MACHADO     49\n",
       "NOVO ISRAEL                  48\n",
       "PURAQUEQUARA                 47\n",
       "MORRO DA LIBERDADE           42\n",
       "SANTA LUZIA                  42\n",
       "TARUMÃ-AÇÚ                   34\n",
       "PRESIDENTE VARGAS            29\n",
       "CRESPO                       26\n",
       "NOSSA SENHORA APARECIDA      26\n",
       "SÃO GERALDO                  23\n",
       "GLÓRIA                       20\n",
       "DISTRITO INDUSTRIAL II       18\n",
       "RIO NEGRO                    14\n",
       "BR-174                        4\n",
       "RIO TARUMÃ-MIRIM              3\n",
       "AM-010                        2\n",
       "Name: _bairro_mapa, dtype: int64"
      ]
     },
     "execution_count": 36,
     "metadata": {},
     "output_type": "execute_result"
    }
   ],
   "source": [
    "numero_bairros = teste['_bairro_mapa'].value_counts().size\n",
    "\n",
    "#TOP 10 bairros com mais casos\n",
    "bairros = teste['_bairro_mapa'].value_counts().head(10)\n",
    "\n",
    "bairros_outros = teste['_bairro_mapa'].value_counts()[10:].sum()\n",
    "\n",
    "teste['_bairro_mapa'].value_counts()"
   ]
  },
  {
   "cell_type": "code",
   "execution_count": 37,
   "metadata": {},
   "outputs": [],
   "source": [
    "bairros_nome = bairros.index"
   ]
  },
  {
   "cell_type": "code",
   "execution_count": 38,
   "metadata": {},
   "outputs": [
    {
     "data": {
      "text/html": [
       "<div>\n",
       "<style scoped>\n",
       "    .dataframe tbody tr th:only-of-type {\n",
       "        vertical-align: middle;\n",
       "    }\n",
       "\n",
       "    .dataframe tbody tr th {\n",
       "        vertical-align: top;\n",
       "    }\n",
       "\n",
       "    .dataframe thead th {\n",
       "        text-align: right;\n",
       "    }\n",
       "</style>\n",
       "<table border=\"1\" class=\"dataframe\">\n",
       "  <thead>\n",
       "    <tr style=\"text-align: right;\">\n",
       "      <th></th>\n",
       "      <th>Bairros</th>\n",
       "      <th>Casos</th>\n",
       "    </tr>\n",
       "  </thead>\n",
       "  <tbody>\n",
       "    <tr>\n",
       "      <th>0</th>\n",
       "      <td>CIDADE NOVA</td>\n",
       "      <td>559</td>\n",
       "    </tr>\n",
       "    <tr>\n",
       "      <th>1</th>\n",
       "      <td>FLORES</td>\n",
       "      <td>361</td>\n",
       "    </tr>\n",
       "    <tr>\n",
       "      <th>2</th>\n",
       "      <td>SÃO JOSÉ OPERÁRIO</td>\n",
       "      <td>341</td>\n",
       "    </tr>\n",
       "    <tr>\n",
       "      <th>3</th>\n",
       "      <td>ALVORADA</td>\n",
       "      <td>330</td>\n",
       "    </tr>\n",
       "    <tr>\n",
       "      <th>4</th>\n",
       "      <td>PARQUE 10 DE NOVEMBRO</td>\n",
       "      <td>317</td>\n",
       "    </tr>\n",
       "    <tr>\n",
       "      <th>5</th>\n",
       "      <td>COMPENSA</td>\n",
       "      <td>307</td>\n",
       "    </tr>\n",
       "    <tr>\n",
       "      <th>6</th>\n",
       "      <td>JORGE TEIXEIRA</td>\n",
       "      <td>282</td>\n",
       "    </tr>\n",
       "    <tr>\n",
       "      <th>7</th>\n",
       "      <td>COROADO</td>\n",
       "      <td>278</td>\n",
       "    </tr>\n",
       "    <tr>\n",
       "      <th>8</th>\n",
       "      <td>TARUMÃ</td>\n",
       "      <td>267</td>\n",
       "    </tr>\n",
       "    <tr>\n",
       "      <th>9</th>\n",
       "      <td>PETRÓPOLIS</td>\n",
       "      <td>266</td>\n",
       "    </tr>\n",
       "    <tr>\n",
       "      <th>10</th>\n",
       "      <td>OUTROS</td>\n",
       "      <td>4795</td>\n",
       "    </tr>\n",
       "  </tbody>\n",
       "</table>\n",
       "</div>"
      ],
      "text/plain": [
       "                  Bairros  Casos\n",
       "0             CIDADE NOVA    559\n",
       "1                  FLORES    361\n",
       "2       SÃO JOSÉ OPERÁRIO    341\n",
       "3                ALVORADA    330\n",
       "4   PARQUE 10 DE NOVEMBRO    317\n",
       "5                COMPENSA    307\n",
       "6          JORGE TEIXEIRA    282\n",
       "7                 COROADO    278\n",
       "8                  TARUMÃ    267\n",
       "9              PETRÓPOLIS    266\n",
       "10                 OUTROS   4795"
      ]
     },
     "execution_count": 38,
     "metadata": {},
     "output_type": "execute_result"
    }
   ],
   "source": [
    "list_of_tuples = list(zip(bairros_nome, bairros))  \n",
    "\n",
    "bairros_casos = pd.DataFrame(list_of_tuples, columns = ['Bairros', 'Casos'])\n",
    "\n",
    "bairros_casos.loc[len(bairros_casos)] = ['OUTROS',bairros_outros]\n",
    "\n",
    "bairros_casos"
   ]
  },
  {
   "cell_type": "code",
   "execution_count": 39,
   "metadata": {},
   "outputs": [
    {
     "name": "stderr",
     "output_type": "stream",
     "text": [
      "<ipython-input-39-9d19e6ca255f>:6: SettingWithCopyWarning: \n",
      "A value is trying to be set on a copy of a slice from a DataFrame\n",
      "\n",
      "See the caveats in the documentation: https://pandas.pydata.org/pandas-docs/stable/user_guide/indexing.html#returning-a-view-versus-a-copy\n",
      "  bairros_casos['Casos'][i] = porcentagem\n"
     ]
    }
   ],
   "source": [
    "soma_de_casos = bairros_casos['Casos'].sum()\n",
    "\n",
    "for i in range(11):\n",
    "    porcentagem = (bairros_casos['Casos'][i]/numero_casos)*100\n",
    "    \n",
    "    bairros_casos['Casos'][i] = porcentagem\n"
   ]
  },
  {
   "cell_type": "code",
   "execution_count": 40,
   "metadata": {},
   "outputs": [
    {
     "data": {
      "image/png": "[encoded data removed]",
      "text/plain": [
       "<Figure size 432x288 with 1 Axes>"
      ]
     },
     "metadata": {
      "needs_background": "light"
     },
     "output_type": "display_data"
    }
   ],
   "source": [
    "fig = plt.figure()\n",
    "ax = fig.add_axes([0,0,1,1])\n",
    "ax.bar(bairros_casos['Bairros'], bairros_casos['Casos'])\n",
    "plt.xticks(bairros_casos['Bairros'],rotation=90)\n",
    "ax.set_xlabel('Bairros')\n",
    "ax.set_ylabel('Casos %')\n",
    "\n",
    "plt.show()"
   ]
  },
  {
   "cell_type": "code",
   "execution_count": null,
   "metadata": {},
   "outputs": [],
   "source": []
  },
  {
   "cell_type": "code",
   "execution_count": null,
   "metadata": {},
   "outputs": [],
   "source": []
  },
  {
   "cell_type": "code",
   "execution_count": null,
   "metadata": {},
   "outputs": [],
   "source": []
  },
  {
   "cell_type": "code",
   "execution_count": null,
   "metadata": {},
   "outputs": [],
   "source": []
  },
  {
   "cell_type": "code",
   "execution_count": null,
   "metadata": {},
   "outputs": [],
   "source": []
  },
  {
   "cell_type": "code",
   "execution_count": null,
   "metadata": {},
   "outputs": [],
   "source": []
  },
  {
   "cell_type": "code",
   "execution_count": null,
   "metadata": {},
   "outputs": [],
   "source": []
  },
  {
   "cell_type": "code",
   "execution_count": null,
   "metadata": {},
   "outputs": [],
   "source": []
  },
  {
   "cell_type": "code",
   "execution_count": null,
   "metadata": {},
   "outputs": [],
   "source": []
  }
 ],
 "metadata": {
  "kernelspec": {
   "display_name": "Python 3",
   "language": "python",
   "name": "python3"
  },
  "language_info": {
   "codemirror_mode": {
    "name": "ipython",
    "version": 3
   },
   "file_extension": ".py",
   "mimetype": "text/x-python",
   "name": "python",
   "nbconvert_exporter": "python",
   "pygments_lexer": "ipython3",
   "version": "3.8.3"
  }
 },
 "nbformat": 4,
 "nbformat_minor": 4
}

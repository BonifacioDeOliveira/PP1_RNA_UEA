{
 "cells": [
  {
   "cell_type": "code",
   "execution_count": 1,
   "metadata": {},
   "outputs": [
    {
     "name": "stderr",
     "output_type": "stream",
     "text": [
      "c:\\users\\luiz fabio\\appdata\\local\\programs\\python\\python38-32\\lib\\site-packages\\IPython\\core\\interactiveshell.py:3145: DtypeWarning: Columns (15,21,23,29,30,31,32,34) have mixed types.Specify dtype option on import or set low_memory=False.\n",
      "  has_raised = await self.run_ast_nodes(code_ast.body, cell_name,\n"
     ]
    }
   ],
   "source": [
    "%matplotlib inline\n",
    "import pandas as pd\n",
    "import numpy as np\n",
    "import matplotlib.pyplot as plt\n",
    "import seaborn as sns\n",
    "import io\n",
    "\n",
    "df = pd.read_csv('Manaus.csv', sep=';', encoding='latin-1')\n",
    "\n",
    "#Limpeza\n",
    "cleaned_data = df[['_idade','_sexo','_bairro','_classificacao','_conclusao','_dt_notificacao','_teste_pcr','_teste_anticorpo','_teste_antigeno','_teste_igm','_teste_igg','_faixa etária']]\n",
    "cleaned_data = cleaned_data.dropna()\n",
    "cleaned_data = cleaned_data.reset_index(drop=True)\n",
    "df = cleaned_data"
   ]
  },
  {
   "cell_type": "code",
   "execution_count": 2,
   "metadata": {},
   "outputs": [
    {
     "data": {
      "text/html": [
       "<div>\n",
       "<style scoped>\n",
       "    .dataframe tbody tr th:only-of-type {\n",
       "        vertical-align: middle;\n",
       "    }\n",
       "\n",
       "    .dataframe tbody tr th {\n",
       "        vertical-align: top;\n",
       "    }\n",
       "\n",
       "    .dataframe thead th {\n",
       "        text-align: right;\n",
       "    }\n",
       "</style>\n",
       "<table border=\"1\" class=\"dataframe\">\n",
       "  <thead>\n",
       "    <tr style=\"text-align: right;\">\n",
       "      <th></th>\n",
       "      <th>_idade</th>\n",
       "      <th>_sexo</th>\n",
       "      <th>_bairro</th>\n",
       "      <th>_classificacao</th>\n",
       "      <th>_conclusao</th>\n",
       "      <th>_dt_notificacao</th>\n",
       "      <th>_teste_pcr</th>\n",
       "      <th>_teste_anticorpo</th>\n",
       "      <th>_teste_antigeno</th>\n",
       "      <th>_teste_igm</th>\n",
       "      <th>_teste_igg</th>\n",
       "      <th>_faixa etária</th>\n",
       "    </tr>\n",
       "  </thead>\n",
       "  <tbody>\n",
       "    <tr>\n",
       "      <th>0</th>\n",
       "      <td>43.0</td>\n",
       "      <td>F</td>\n",
       "      <td>SANTA ETELVINA</td>\n",
       "      <td>Em análise</td>\n",
       "      <td>Recuperado</td>\n",
       "      <td>08/04/2020</td>\n",
       "      <td>0.0</td>\n",
       "      <td>0.0</td>\n",
       "      <td>0.0</td>\n",
       "      <td>0.0</td>\n",
       "      <td>0.0</td>\n",
       "      <td>40a - 49a</td>\n",
       "    </tr>\n",
       "    <tr>\n",
       "      <th>1</th>\n",
       "      <td>39.0</td>\n",
       "      <td>M</td>\n",
       "      <td>CRESPO</td>\n",
       "      <td>Em análise</td>\n",
       "      <td>Recuperado</td>\n",
       "      <td>31/03/2020</td>\n",
       "      <td>0.0</td>\n",
       "      <td>0.0</td>\n",
       "      <td>0.0</td>\n",
       "      <td>0.0</td>\n",
       "      <td>0.0</td>\n",
       "      <td>30a - 39a</td>\n",
       "    </tr>\n",
       "    <tr>\n",
       "      <th>2</th>\n",
       "      <td>42.0</td>\n",
       "      <td>F</td>\n",
       "      <td>JAPIIM 1</td>\n",
       "      <td>Em análise</td>\n",
       "      <td>Recuperado</td>\n",
       "      <td>07/04/2020</td>\n",
       "      <td>0.0</td>\n",
       "      <td>0.0</td>\n",
       "      <td>0.0</td>\n",
       "      <td>0.0</td>\n",
       "      <td>0.0</td>\n",
       "      <td>40a - 49a</td>\n",
       "    </tr>\n",
       "    <tr>\n",
       "      <th>3</th>\n",
       "      <td>35.0</td>\n",
       "      <td>F</td>\n",
       "      <td>JORGE TEIXEIRA</td>\n",
       "      <td>Em análise</td>\n",
       "      <td>Recuperado</td>\n",
       "      <td>04/05/2020</td>\n",
       "      <td>0.0</td>\n",
       "      <td>0.0</td>\n",
       "      <td>0.0</td>\n",
       "      <td>0.0</td>\n",
       "      <td>0.0</td>\n",
       "      <td>30a - 39a</td>\n",
       "    </tr>\n",
       "    <tr>\n",
       "      <th>4</th>\n",
       "      <td>45.0</td>\n",
       "      <td>F</td>\n",
       "      <td>COROADO</td>\n",
       "      <td>Em análise</td>\n",
       "      <td>Recuperado</td>\n",
       "      <td>04/05/2020</td>\n",
       "      <td>0.0</td>\n",
       "      <td>0.0</td>\n",
       "      <td>0.0</td>\n",
       "      <td>0.0</td>\n",
       "      <td>0.0</td>\n",
       "      <td>40a - 49a</td>\n",
       "    </tr>\n",
       "  </tbody>\n",
       "</table>\n",
       "</div>"
      ],
      "text/plain": [
       "   _idade _sexo         _bairro _classificacao  _conclusao _dt_notificacao  \\\n",
       "0    43.0     F  SANTA ETELVINA     Em análise  Recuperado      08/04/2020   \n",
       "1    39.0     M          CRESPO     Em análise  Recuperado      31/03/2020   \n",
       "2    42.0     F        JAPIIM 1     Em análise  Recuperado      07/04/2020   \n",
       "3    35.0     F  JORGE TEIXEIRA     Em análise  Recuperado      04/05/2020   \n",
       "4    45.0     F         COROADO     Em análise  Recuperado      04/05/2020   \n",
       "\n",
       "   _teste_pcr  _teste_anticorpo  _teste_antigeno  _teste_igm  _teste_igg  \\\n",
       "0         0.0               0.0              0.0         0.0         0.0   \n",
       "1         0.0               0.0              0.0         0.0         0.0   \n",
       "2         0.0               0.0              0.0         0.0         0.0   \n",
       "3         0.0               0.0              0.0         0.0         0.0   \n",
       "4         0.0               0.0              0.0         0.0         0.0   \n",
       "\n",
       "  _faixa etária  \n",
       "0     40a - 49a  \n",
       "1     30a - 39a  \n",
       "2     40a - 49a  \n",
       "3     30a - 39a  \n",
       "4     40a - 49a  "
      ]
     },
     "execution_count": 2,
     "metadata": {},
     "output_type": "execute_result"
    }
   ],
   "source": [
    "df.head()"
   ]
  },
  {
   "cell_type": "code",
   "execution_count": 3,
   "metadata": {},
   "outputs": [],
   "source": [
    "teste = df.loc[df['_classificacao'] == 'Confirmado']"
   ]
  },
  {
   "cell_type": "code",
   "execution_count": 4,
   "metadata": {},
   "outputs": [
    {
     "data": {
      "text/plain": [
       "array([272, 266, 266, 263, 259, 255, 254, 250, 244, 235, 226, 225, 213,\n",
       "       210, 197, 192, 190, 190, 182, 181, 175, 171, 164, 164, 160, 156,\n",
       "       151, 147, 146, 143, 129, 125, 124, 117, 106,  97,  93,  86,  81,\n",
       "        76,  74,  73,  68,  67,  64,  57,  56,  53,  53,  49,  46,  41,\n",
       "        36,  36,  33,  31,  31,  28,  27,  27,  25,  25,  25,  24,  22,\n",
       "        20,  19,  19,  18,  18,  17,  17,  17,  16,  16,  16,  15,  13,\n",
       "        13,  13,  12,  12,  11,  10,   9,   9,   8,   7,   7,   5,   5,\n",
       "         5,   3,   3,   3,   2,   1,   1,   1,   1], dtype=int64)"
      ]
     },
     "execution_count": 4,
     "metadata": {},
     "output_type": "execute_result"
    }
   ],
   "source": [
    "#Todos os casos por faixa etaria\n",
    "faixas_etarias = teste['_idade'].value_counts()\n",
    "faixas_etarias.values"
   ]
  },
  {
   "cell_type": "code",
   "execution_count": 5,
   "metadata": {},
   "outputs": [
    {
     "data": {
      "text/html": [
       "<div>\n",
       "<style scoped>\n",
       "    .dataframe tbody tr th:only-of-type {\n",
       "        vertical-align: middle;\n",
       "    }\n",
       "\n",
       "    .dataframe tbody tr th {\n",
       "        vertical-align: top;\n",
       "    }\n",
       "\n",
       "    .dataframe thead th {\n",
       "        text-align: right;\n",
       "    }\n",
       "</style>\n",
       "<table border=\"1\" class=\"dataframe\">\n",
       "  <thead>\n",
       "    <tr style=\"text-align: right;\">\n",
       "      <th></th>\n",
       "      <th>Idade</th>\n",
       "      <th>Casos</th>\n",
       "    </tr>\n",
       "  </thead>\n",
       "  <tbody>\n",
       "    <tr>\n",
       "      <th>0</th>\n",
       "      <td>40.0</td>\n",
       "      <td>272</td>\n",
       "    </tr>\n",
       "    <tr>\n",
       "      <th>1</th>\n",
       "      <td>39.0</td>\n",
       "      <td>266</td>\n",
       "    </tr>\n",
       "    <tr>\n",
       "      <th>2</th>\n",
       "      <td>42.0</td>\n",
       "      <td>266</td>\n",
       "    </tr>\n",
       "    <tr>\n",
       "      <th>3</th>\n",
       "      <td>38.0</td>\n",
       "      <td>263</td>\n",
       "    </tr>\n",
       "    <tr>\n",
       "      <th>4</th>\n",
       "      <td>41.0</td>\n",
       "      <td>259</td>\n",
       "    </tr>\n",
       "    <tr>\n",
       "      <th>...</th>\n",
       "      <td>...</td>\n",
       "      <td>...</td>\n",
       "    </tr>\n",
       "    <tr>\n",
       "      <th>95</th>\n",
       "      <td>94.0</td>\n",
       "      <td>2</td>\n",
       "    </tr>\n",
       "    <tr>\n",
       "      <th>96</th>\n",
       "      <td>95.0</td>\n",
       "      <td>1</td>\n",
       "    </tr>\n",
       "    <tr>\n",
       "      <th>97</th>\n",
       "      <td>105.0</td>\n",
       "      <td>1</td>\n",
       "    </tr>\n",
       "    <tr>\n",
       "      <th>98</th>\n",
       "      <td>97.0</td>\n",
       "      <td>1</td>\n",
       "    </tr>\n",
       "    <tr>\n",
       "      <th>99</th>\n",
       "      <td>99.0</td>\n",
       "      <td>1</td>\n",
       "    </tr>\n",
       "  </tbody>\n",
       "</table>\n",
       "<p>100 rows × 2 columns</p>\n",
       "</div>"
      ],
      "text/plain": [
       "    Idade  Casos\n",
       "0    40.0    272\n",
       "1    39.0    266\n",
       "2    42.0    266\n",
       "3    38.0    263\n",
       "4    41.0    259\n",
       "..    ...    ...\n",
       "95   94.0      2\n",
       "96   95.0      1\n",
       "97  105.0      1\n",
       "98   97.0      1\n",
       "99   99.0      1\n",
       "\n",
       "[100 rows x 2 columns]"
      ]
     },
     "metadata": {},
     "output_type": "display_data"
    }
   ],
   "source": [
    "list_of_tuples = list(zip(faixas_etarias.index, faixas_etarias.values))  \n",
    "\n",
    "faixas_etarias = pd.DataFrame(list_of_tuples, columns = ['Idade', 'Casos'])\n",
    "\n",
    "display(faixas_etarias)"
   ]
  },
  {
   "cell_type": "code",
   "execution_count": 6,
   "metadata": {},
   "outputs": [
    {
     "name": "stderr",
     "output_type": "stream",
     "text": [
      "*c* argument looks like a single numeric RGB or RGBA sequence, which should be avoided as value-mapping will have precedence in case its length matches with *x* & *y*.  Please use the *color* keyword-argument or provide a 2-D array with a single row if you intend to specify the same RGB or RGBA value for all points.\n"
     ]
    },
    {
     "data": {
      "image/png": "[encoded data removed]",
      "text/plain": [
       "<Figure size 432x288 with 1 Axes>"
      ]
     },
     "metadata": {
      "needs_background": "light"
     },
     "output_type": "display_data"
    }
   ],
   "source": [
    "# Create data\n",
    "N = 500\n",
    "x = np.random.rand(N)\n",
    "y = np.random.rand(N)\n",
    "colors = (0,0,0)\n",
    "area = np.pi*3\n",
    "\n",
    "# Plot\n",
    "plt.scatter(faixas_etarias['Idade'], faixas_etarias['Casos'], s=area, c=colors, alpha=0.5)\n",
    "\n",
    "plt.xlabel('Idade')\n",
    "plt.ylabel('Casos')\n",
    "plt.show()"
   ]
  },
  {
   "cell_type": "code",
   "execution_count": null,
   "metadata": {},
   "outputs": [],
   "source": []
  }
 ],
 "metadata": {
  "kernelspec": {
   "display_name": "Python 3",
   "language": "python",
   "name": "python3"
  },
  "language_info": {
   "codemirror_mode": {
    "name": "ipython",
    "version": 3
   },
   "file_extension": ".py",
   "mimetype": "text/x-python",
   "name": "python",
   "nbconvert_exporter": "python",
   "pygments_lexer": "ipython3",
   "version": "3.8.3"
  }
 },
 "nbformat": 4,
 "nbformat_minor": 4
}
